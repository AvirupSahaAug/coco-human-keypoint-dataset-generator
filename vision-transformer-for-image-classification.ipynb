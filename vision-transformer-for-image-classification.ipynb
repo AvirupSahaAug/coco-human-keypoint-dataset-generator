{
 "cells": [
  {
   "cell_type": "code",
   "execution_count": 1,
   "id": "c9dcee3f",
   "metadata": {
    "_cell_guid": "b1076dfc-b9ad-4769-8c92-a6c4dae69d19",
    "_uuid": "8f2839f25d086af736a60e9eeb907d3b93b6e0e5",
    "execution": {
     "iopub.execute_input": "2025-03-02T13:48:27.923113Z",
     "iopub.status.busy": "2025-03-02T13:48:27.922608Z",
     "iopub.status.idle": "2025-03-02T13:48:33.200449Z",
     "shell.execute_reply": "2025-03-02T13:48:33.198884Z"
    },
    "papermill": {
     "duration": 5.283633,
     "end_time": "2025-03-02T13:48:33.202183",
     "exception": false,
     "start_time": "2025-03-02T13:48:27.918550",
     "status": "completed"
    },
    "tags": []
   },
   "outputs": [],
   "source": [
    "import torch\n",
    "from torch import nn\n",
    "class embedding(nn.Module):\n",
    "    def __init__(self,patch_size,num_patches,num_dims):\n",
    "        super().__init__()\n",
    "        self.conv=nn.Conv2d(1,num_dims,patch_size,patch_size,0)\n",
    "    def forward(self,x):\n",
    "        return self.conv(x).flatten(-2).permute(0,2,1)\n",
    "        # return self.conv(x).flatten(-2)# batch no of keys and no of dims\n",
    "\n",
    "class Attention(nn.Module):\n",
    "    def __init__(self, dim, n_heads, dropout):\n",
    "        super().__init__()\n",
    "        self.n_heads = n_heads\n",
    "        self.att = torch.nn.MultiheadAttention(embed_dim=dim,\n",
    "                                               num_heads=n_heads,\n",
    "                                               dropout=dropout)\n",
    "        self.q = torch.nn.Linear(dim, dim)\n",
    "        self.k = torch.nn.Linear(dim, dim)\n",
    "        self.v = torch.nn.Linear(dim, dim)\n",
    "\n",
    "    def forward(self, x):\n",
    "        # x=x.permute(1,0,2)\n",
    "        q = self.q(x)\n",
    "        k = self.k(x)\n",
    "        v = self.v(x)\n",
    "        attn_output, attn_output_weights = self.att(q,k,v)\n",
    "        return attn_output\n",
    "\n",
    "class PreNorm(nn.Module):\n",
    "    def __init__(self, dim, fn):\n",
    "        super().__init__()\n",
    "        self.norm = nn.LayerNorm(dim)\n",
    "        self.fn = fn\n",
    "    def forward(self, x, **kwargs):\n",
    "        return self.fn(self.norm(x), **kwargs)\n",
    "\n",
    "class FeedForward(nn.Module):\n",
    "    def __init__(self, dim, hidden_dim, dropout = 0.):\n",
    "        super().__init__()\n",
    "        self.feed=nn.Sequential(\n",
    "            nn.Linear(dim, hidden_dim),\n",
    "            nn.GELU(),\n",
    "            nn.Dropout(dropout),\n",
    "            nn.Linear(hidden_dim, dim),\n",
    "            nn.Dropout(dropout))\n",
    "    def forward(self,x):\n",
    "        return self.feed(x)\n",
    "\n",
    "class ResidualAdd(nn.Module):\n",
    "    def __init__(self, fn):\n",
    "        super().__init__()\n",
    "        self.fn = fn\n",
    "\n",
    "    def forward(self, x, **kwargs):\n",
    "        res = x\n",
    "        x = self.fn(x, **kwargs)\n",
    "        x += res\n",
    "        return x\n",
    "\n",
    "class FeedForward(nn.Module):\n",
    "    def __init__(self, dim, hidden_dim, dropout = 0.):\n",
    "        super().__init__()\n",
    "        self.feed=nn.Sequential(\n",
    "            nn.Linear(dim, hidden_dim),\n",
    "            nn.GELU(),\n",
    "            nn.Dropout(dropout),\n",
    "            nn.Linear(hidden_dim, dim),\n",
    "            nn.Dropout(dropout))\n",
    "    def forward(self,x):\n",
    "        return self.feed(x)"
   ]
  },
  {
   "cell_type": "code",
   "execution_count": 2,
   "id": "67870c2d",
   "metadata": {
    "execution": {
     "iopub.execute_input": "2025-03-02T13:48:33.209699Z",
     "iopub.status.busy": "2025-03-02T13:48:33.209261Z",
     "iopub.status.idle": "2025-03-02T13:48:38.817576Z",
     "shell.execute_reply": "2025-03-02T13:48:38.816020Z"
    },
    "papermill": {
     "duration": 5.61397,
     "end_time": "2025-03-02T13:48:38.819834",
     "exception": false,
     "start_time": "2025-03-02T13:48:33.205864",
     "status": "completed"
    },
    "tags": []
   },
   "outputs": [
    {
     "name": "stdout",
     "output_type": "stream",
     "text": [
      "ViT(\n",
      "  (patch_embedding): embedding(\n",
      "    (conv): Conv2d(1, 16, kernel_size=(4, 4), stride=(4, 4))\n",
      "  )\n",
      "  (layers): ModuleList(\n",
      "    (0-1): 2 x Sequential(\n",
      "      (0): ResidualAdd(\n",
      "        (fn): PreNorm(\n",
      "          (norm): LayerNorm((16,), eps=1e-05, elementwise_affine=True)\n",
      "          (fn): Attention(\n",
      "            (att): MultiheadAttention(\n",
      "              (out_proj): NonDynamicallyQuantizableLinear(in_features=16, out_features=16, bias=True)\n",
      "            )\n",
      "            (q): Linear(in_features=16, out_features=16, bias=True)\n",
      "            (k): Linear(in_features=16, out_features=16, bias=True)\n",
      "            (v): Linear(in_features=16, out_features=16, bias=True)\n",
      "          )\n",
      "        )\n",
      "      )\n",
      "      (1): ResidualAdd(\n",
      "        (fn): PreNorm(\n",
      "          (norm): LayerNorm((16,), eps=1e-05, elementwise_affine=True)\n",
      "          (fn): FeedForward(\n",
      "            (feed): Sequential(\n",
      "              (0): Linear(in_features=16, out_features=16, bias=True)\n",
      "              (1): GELU(approximate='none')\n",
      "              (2): Dropout(p=0.1, inplace=False)\n",
      "              (3): Linear(in_features=16, out_features=16, bias=True)\n",
      "              (4): Dropout(p=0.1, inplace=False)\n",
      "            )\n",
      "          )\n",
      "        )\n",
      "      )\n",
      "    )\n",
      "  )\n",
      "  (head): Sequential(\n",
      "    (0): LayerNorm((16,), eps=1e-05, elementwise_affine=True)\n",
      "    (1): Linear(in_features=16, out_features=10, bias=True)\n",
      "  )\n",
      ")\n"
     ]
    },
    {
     "data": {
      "text/plain": [
       "torch.Size([32, 10])"
      ]
     },
     "execution_count": 2,
     "metadata": {},
     "output_type": "execute_result"
    }
   ],
   "source": [
    "from einops import repeat\n",
    "class ViT(nn.Module):\n",
    "    def __init__(self, ch=1, img_size=28, patch_size=4, emb_dim=16,\n",
    "                n_layers=2, out_dim=10, dropout=0.1, heads=4):\n",
    "        super(ViT, self).__init__()\n",
    "\n",
    "        self.channels = ch\n",
    "        self.height = img_size\n",
    "        self.width = img_size\n",
    "        self.patch_size = patch_size\n",
    "        self.n_layers = n_layers\n",
    "\n",
    "        self.patch_embedding = embedding(patch_size,img_size//patch_size,\n",
    "                                              emb_dim)\n",
    "        num_patches = (img_size // patch_size) ** 2\n",
    "        self.pos_embedding = nn.Parameter(\n",
    "            torch.randn(1, num_patches + 1, emb_dim))\n",
    "        self.cls_token = nn.Parameter(torch.rand(1, 1, emb_dim))\n",
    "\n",
    "        self.layers = nn.ModuleList([])\n",
    "        for _ in range(n_layers):\n",
    "            transformer_block = nn.Sequential(\n",
    "                ResidualAdd(PreNorm(emb_dim, Attention(emb_dim, n_heads = heads, dropout = dropout))),\n",
    "                ResidualAdd(PreNorm(emb_dim, FeedForward(emb_dim, emb_dim, dropout = dropout))))\n",
    "            self.layers.append(transformer_block)\n",
    "\n",
    "        self.head = nn.Sequential(nn.LayerNorm(emb_dim), nn.Linear(emb_dim, out_dim))\n",
    "\n",
    "\n",
    "    def forward(self, img):\n",
    "        x = self.patch_embedding(img)\n",
    "        b, n, _ = x.shape\n",
    "\n",
    "        cls_tokens = repeat(self.cls_token, '1 1 d -> b 1 d', b = b)\n",
    "        x = torch.cat([cls_tokens, x], dim=1)\n",
    "        x += self.pos_embedding[:, :(n + 1)]\n",
    "\n",
    "        for i in range(self.n_layers):\n",
    "            x = self.layers[i](x)\n",
    "\n",
    "        return self.head(x[:, 0, :])\n",
    "\n",
    "\n",
    "model = ViT()\n",
    "print(model)\n",
    "model(torch.ones((32, 1, 28,28))).shape"
   ]
  },
  {
   "cell_type": "code",
   "execution_count": 3,
   "id": "852c78ad",
   "metadata": {
    "execution": {
     "iopub.execute_input": "2025-03-02T13:48:38.826836Z",
     "iopub.status.busy": "2025-03-02T13:48:38.826369Z",
     "iopub.status.idle": "2025-03-02T13:48:38.834154Z",
     "shell.execute_reply": "2025-03-02T13:48:38.833360Z"
    },
    "papermill": {
     "duration": 0.012621,
     "end_time": "2025-03-02T13:48:38.835300",
     "exception": false,
     "start_time": "2025-03-02T13:48:38.822679",
     "status": "completed"
    },
    "tags": []
   },
   "outputs": [
    {
     "data": {
      "text/plain": [
       "torch.Size([1, 5, 128])"
      ]
     },
     "execution_count": 3,
     "metadata": {},
     "output_type": "execute_result"
    }
   ],
   "source": [
    "\n",
    "ff = FeedForward(dim=128, hidden_dim=256)\n",
    "ff(torch.ones((1, 5, 128))).shape"
   ]
  },
  {
   "cell_type": "code",
   "execution_count": 4,
   "id": "3e1bd7e3",
   "metadata": {
    "execution": {
     "iopub.execute_input": "2025-03-02T13:48:38.840683Z",
     "iopub.status.busy": "2025-03-02T13:48:38.840370Z",
     "iopub.status.idle": "2025-03-02T13:48:38.849284Z",
     "shell.execute_reply": "2025-03-02T13:48:38.847890Z"
    },
    "papermill": {
     "duration": 0.01363,
     "end_time": "2025-03-02T13:48:38.851127",
     "exception": false,
     "start_time": "2025-03-02T13:48:38.837497",
     "status": "completed"
    },
    "tags": []
   },
   "outputs": [
    {
     "data": {
      "text/plain": [
       "torch.Size([1, 49, 16])"
      ]
     },
     "execution_count": 4,
     "metadata": {},
     "output_type": "execute_result"
    }
   ],
   "source": [
    "inp=torch.rand([1,  49,16])\n",
    "model=Attention(16,16,0.01)\n",
    "\n",
    "output=model(inp)\n",
    "output.shape"
   ]
  },
  {
   "cell_type": "code",
   "execution_count": 5,
   "id": "33b913f1",
   "metadata": {
    "execution": {
     "iopub.execute_input": "2025-03-02T13:48:38.856731Z",
     "iopub.status.busy": "2025-03-02T13:48:38.856435Z",
     "iopub.status.idle": "2025-03-02T13:50:29.071699Z",
     "shell.execute_reply": "2025-03-02T13:50:29.069548Z"
    },
    "papermill": {
     "duration": 110.219891,
     "end_time": "2025-03-02T13:50:29.073459",
     "exception": false,
     "start_time": "2025-03-02T13:48:38.853568",
     "status": "completed"
    },
    "tags": []
   },
   "outputs": [
    {
     "name": "stdout",
     "output_type": "stream",
     "text": [
      "Downloading http://yann.lecun.com/exdb/mnist/train-images-idx3-ubyte.gz\n",
      "Failed to download (trying next):\n",
      "HTTP Error 404: Not Found\n",
      "\n",
      "Downloading https://ossci-datasets.s3.amazonaws.com/mnist/train-images-idx3-ubyte.gz\n",
      "Downloading https://ossci-datasets.s3.amazonaws.com/mnist/train-images-idx3-ubyte.gz to ./data/MNIST/raw/train-images-idx3-ubyte.gz\n"
     ]
    },
    {
     "name": "stderr",
     "output_type": "stream",
     "text": [
      "100%|██████████| 9.91M/9.91M [00:01<00:00, 5.46MB/s]\n"
     ]
    },
    {
     "name": "stdout",
     "output_type": "stream",
     "text": [
      "Extracting ./data/MNIST/raw/train-images-idx3-ubyte.gz to ./data/MNIST/raw\n",
      "\n",
      "Downloading http://yann.lecun.com/exdb/mnist/train-labels-idx1-ubyte.gz\n",
      "Failed to download (trying next):\n",
      "HTTP Error 404: Not Found\n",
      "\n",
      "Downloading https://ossci-datasets.s3.amazonaws.com/mnist/train-labels-idx1-ubyte.gz\n",
      "Downloading https://ossci-datasets.s3.amazonaws.com/mnist/train-labels-idx1-ubyte.gz to ./data/MNIST/raw/train-labels-idx1-ubyte.gz\n"
     ]
    },
    {
     "name": "stderr",
     "output_type": "stream",
     "text": [
      "100%|██████████| 28.9k/28.9k [00:00<00:00, 160kB/s]\n"
     ]
    },
    {
     "name": "stdout",
     "output_type": "stream",
     "text": [
      "Extracting ./data/MNIST/raw/train-labels-idx1-ubyte.gz to ./data/MNIST/raw\n",
      "\n",
      "Downloading http://yann.lecun.com/exdb/mnist/t10k-images-idx3-ubyte.gz\n",
      "Failed to download (trying next):\n",
      "HTTP Error 404: Not Found\n",
      "\n",
      "Downloading https://ossci-datasets.s3.amazonaws.com/mnist/t10k-images-idx3-ubyte.gz\n",
      "Downloading https://ossci-datasets.s3.amazonaws.com/mnist/t10k-images-idx3-ubyte.gz to ./data/MNIST/raw/t10k-images-idx3-ubyte.gz\n"
     ]
    },
    {
     "name": "stderr",
     "output_type": "stream",
     "text": [
      "100%|██████████| 1.65M/1.65M [00:01<00:00, 1.52MB/s]\n"
     ]
    },
    {
     "name": "stdout",
     "output_type": "stream",
     "text": [
      "Extracting ./data/MNIST/raw/t10k-images-idx3-ubyte.gz to ./data/MNIST/raw\n",
      "\n",
      "Downloading http://yann.lecun.com/exdb/mnist/t10k-labels-idx1-ubyte.gz\n",
      "Failed to download (trying next):\n",
      "HTTP Error 404: Not Found\n",
      "\n",
      "Downloading https://ossci-datasets.s3.amazonaws.com/mnist/t10k-labels-idx1-ubyte.gz\n",
      "Downloading https://ossci-datasets.s3.amazonaws.com/mnist/t10k-labels-idx1-ubyte.gz to ./data/MNIST/raw/t10k-labels-idx1-ubyte.gz\n"
     ]
    },
    {
     "name": "stderr",
     "output_type": "stream",
     "text": [
      "100%|██████████| 4.54k/4.54k [00:00<00:00, 5.24MB/s]\n"
     ]
    },
    {
     "name": "stdout",
     "output_type": "stream",
     "text": [
      "Extracting ./data/MNIST/raw/t10k-labels-idx1-ubyte.gz to ./data/MNIST/raw\n",
      "\n"
     ]
    },
    {
     "name": "stderr",
     "output_type": "stream",
     "text": [
      "100%|██████████| 938/938 [00:18<00:00, 51.53it/s]\n"
     ]
    },
    {
     "name": "stdout",
     "output_type": "stream",
     "text": [
      "Epoch [1/5], Loss: 0.2112\n",
      "Test Accuracy: 0.9679\n"
     ]
    },
    {
     "name": "stderr",
     "output_type": "stream",
     "text": [
      "100%|██████████| 938/938 [00:17<00:00, 53.30it/s]\n"
     ]
    },
    {
     "name": "stdout",
     "output_type": "stream",
     "text": [
      "Epoch [2/5], Loss: 0.0852\n",
      "Test Accuracy: 0.9766\n"
     ]
    },
    {
     "name": "stderr",
     "output_type": "stream",
     "text": [
      "100%|██████████| 938/938 [00:17<00:00, 53.47it/s]\n"
     ]
    },
    {
     "name": "stdout",
     "output_type": "stream",
     "text": [
      "Epoch [3/5], Loss: 0.0658\n",
      "Test Accuracy: 0.9818\n"
     ]
    },
    {
     "name": "stderr",
     "output_type": "stream",
     "text": [
      "100%|██████████| 938/938 [00:17<00:00, 53.09it/s]\n"
     ]
    },
    {
     "name": "stdout",
     "output_type": "stream",
     "text": [
      "Epoch [4/5], Loss: 0.0534\n",
      "Test Accuracy: 0.9787\n"
     ]
    },
    {
     "name": "stderr",
     "output_type": "stream",
     "text": [
      "100%|██████████| 938/938 [00:17<00:00, 52.56it/s]\n"
     ]
    },
    {
     "name": "stdout",
     "output_type": "stream",
     "text": [
      "Epoch [5/5], Loss: 0.0463\n",
      "Test Accuracy: 0.9802\n"
     ]
    }
   ],
   "source": [
    "import torch\n",
    "import torch.nn as nn\n",
    "import torch.optim as optim\n",
    "import torchvision\n",
    "import torchvision.transforms as transforms\n",
    "from torch.utils.data import DataLoader\n",
    "\n",
    "\n",
    "transform = transforms.Compose([\n",
    "    transforms.ToTensor(),\n",
    "    transforms.Normalize((0.1307,), (0.3081,))\n",
    "])\n",
    "\n",
    "\n",
    "train_dataset = torchvision.datasets.MNIST(root='./data', train=True, download=True, transform=transform)\n",
    "test_dataset  = torchvision.datasets.MNIST(root='./data', train=False, download=True, transform=transform)\n",
    "\n",
    "\n",
    "train_loader = DataLoader(train_dataset, batch_size=64, shuffle=True)\n",
    "test_loader  = DataLoader(test_dataset, batch_size=64, shuffle=False)\n",
    "\n",
    "\n",
    "class SimpleCNN(nn.Module):\n",
    "    def __init__(self):\n",
    "        super(SimpleCNN, self).__init__()\n",
    "        self.conv = nn.Conv2d(1, 16, kernel_size=3, padding=1)\n",
    "        self.pool = nn.MaxPool2d(2, 2)\n",
    "        \n",
    "        self.fc = nn.Linear(16 * 14 * 14, 10) \n",
    "\n",
    "    def forward(self, x):\n",
    "        x = self.pool(torch.relu(self.conv(x)))\n",
    "        x = x.view(x.size(0), -1)\n",
    "        x = self.fc(x)\n",
    "        return x\n",
    "\n",
    "model = SimpleCNN()\n",
    "\n",
    "\n",
    "device = torch.device(\"cuda\" if torch.cuda.is_available() else \"cpu\")\n",
    "model.to(device)\n",
    "\n",
    "\n",
    "criterion = nn.CrossEntropyLoss()\n",
    "optimizer = optim.Adam(model.parameters(), lr=0.001)\n",
    "\n",
    "def one_hot(labels, num_classes=10):\n",
    "    return torch.nn.functional.one_hot(labels, num_classes).float()\n",
    "\n",
    "\n",
    "def calculate_accuracy(outputs, labels):\n",
    "    \n",
    "    _, predicted = torch.max(outputs, 1)\n",
    "    correct = (predicted == labels).sum().item()\n",
    "    return correct / labels.size(0)\n",
    "\n",
    "num_epochs = 5\n",
    "from tqdm import tqdm\n",
    "for epoch in range(num_epochs):\n",
    "    model.train()\n",
    "    running_loss = 0.0\n",
    "    for images, labels in tqdm(train_loader):\n",
    "        images, labels = images.to(device), labels.to(device)\n",
    "        \n",
    "        outputs = model(images)\n",
    "        loss = criterion(outputs, labels)\n",
    "        \n",
    "        optimizer.zero_grad()\n",
    "        loss.backward()\n",
    "        optimizer.step()\n",
    "        \n",
    "        running_loss += loss.item()\n",
    "    \n",
    "    avg_loss = running_loss / len(train_loader)\n",
    "    print(f\"Epoch [{epoch+1}/{num_epochs}], Loss: {avg_loss:.4f}\")\n",
    "    \n",
    "    # Evaluate on the test set\n",
    "    model.eval()\n",
    "    total_correct = 0\n",
    "    total_samples = 0\n",
    "    with torch.no_grad():\n",
    "        for images, labels in test_loader:\n",
    "            images, labels = images.to(device), labels.to(device)\n",
    "            outputs = model(images)\n",
    "            total_correct += (torch.max(outputs, 1)[1] == labels).sum().item()\n",
    "            total_samples += labels.size(0)\n",
    "    accuracy_val = total_correct / total_samples\n",
    "    print(f\"Test Accuracy: {accuracy_val:.4f}\")\n"
   ]
  },
  {
   "cell_type": "code",
   "execution_count": 6,
   "id": "05d54b8f",
   "metadata": {
    "execution": {
     "iopub.execute_input": "2025-03-02T13:50:29.146738Z",
     "iopub.status.busy": "2025-03-02T13:50:29.146401Z",
     "iopub.status.idle": "2025-03-02T13:50:30.391557Z",
     "shell.execute_reply": "2025-03-02T13:50:30.390013Z"
    },
    "papermill": {
     "duration": 1.284691,
     "end_time": "2025-03-02T13:50:30.393637",
     "exception": false,
     "start_time": "2025-03-02T13:50:29.108946",
     "status": "completed"
    },
    "tags": []
   },
   "outputs": [
    {
     "data": {
      "image/png": "[encoded data removed]",
      "text/plain": [
       "<Figure size 1000x800 with 20 Axes>"
      ]
     },
     "metadata": {},
     "output_type": "display_data"
    }
   ],
   "source": [
    "import matplotlib.pyplot as plt\n",
    "import random\n",
    "\n",
    "num_images = 20\n",
    "indices = random.sample(range(len(test_dataset)), num_images)\n",
    "\n",
    "fig, axes = plt.subplots(4, 5, figsize=(10, 8))\n",
    "axes = axes.flatten()\n",
    "\n",
    "for idx, ax in zip(indices, axes):\n",
    "    img, label = test_dataset[idx]\n",
    "    img = img.squeeze(0)\n",
    "    \n",
    "    ax.imshow(img, cmap='gray')\n",
    "    ax.set_title(str(label))\n",
    "    ax.axis('off')\n",
    "\n",
    "plt.tight_layout()\n",
    "plt.show()\n"
   ]
  },
  {
   "cell_type": "code",
   "execution_count": null,
   "id": "ff128917",
   "metadata": {
    "papermill": {
     "duration": 0.033948,
     "end_time": "2025-03-02T13:50:30.464933",
     "exception": false,
     "start_time": "2025-03-02T13:50:30.430985",
     "status": "completed"
    },
    "tags": []
   },
   "outputs": [],
   "source": []
  }
 ],
 "metadata": {
  "kaggle": {
   "accelerator": "none",
   "dataSources": [],
   "dockerImageVersionId": 30918,
   "isGpuEnabled": false,
   "isInternetEnabled": true,
   "language": "python",
   "sourceType": "notebook"
  },
  "kernelspec": {
   "display_name": "Python 3",
   "language": "python",
   "name": "python3"
  },
  "language_info": {
   "codemirror_mode": {
    "name": "ipython",
    "version": 3
   },
   "file_extension": ".py",
   "mimetype": "text/x-python",
   "name": "python",
   "nbconvert_exporter": "python",
   "pygments_lexer": "ipython3",
   "version": "3.10.12"
  },
  "papermill": {
   "default_parameters": {},
   "duration": 127.54903,
   "end_time": "2025-03-02T13:50:32.885163",
   "environment_variables": {},
   "exception": null,
   "input_path": "__notebook__.ipynb",
   "output_path": "__notebook__.ipynb",
   "parameters": {},
   "start_time": "2025-03-02T13:48:25.336133",
   "version": "2.6.0"
  }
 },
 "nbformat": 4,
 "nbformat_minor": 5
}
